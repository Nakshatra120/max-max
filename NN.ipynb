{
 "cells": [
  {
   "cell_type": "markdown",
   "metadata": {},
   "source": [
    "## Dependency Graph (Function / Logic Structure)\n",
    "\n",
    "- **main()**\n",
    "  - `parse_args()` – defines CLI args\n",
    "  - **if `args.mode == 0`** (training mode)  \n",
    "    - loop over `scramble_fractions`\n",
    "      - loop over `num_repeats`\n",
    "        - loop over `kfold`\n",
    "          - `load_train_val_csvs()`\n",
    "          - `model = instantiate_MLP(args)`\n",
    "          - `train_model(model, …)`\n",
    "          - `save_model_to_pth()`\n",
    "          - `evaluate_on_validation()`\n",
    "          - `save_predictions()`\n",
    "  - **elif `args.mode == 1`** (evaluation mode)  \n",
    "    - loop over `scramble_fractions`\n",
    "      - `load_test_csv()`\n",
    "      - loop over `(repeat_idx, fold_idx)`\n",
    "        - `load_model_from_pth()`\n",
    "        - `evaluate_model()`\n",
    "        - `save_predictions()`\n",
    "  - finish and return\n"
   ]
  },
  {
   "cell_type": "markdown",
   "metadata": {},
   "source": []
  }
 ],
 "metadata": {
  "language_info": {
   "name": "python"
  }
 },
 "nbformat": 4,
 "nbformat_minor": 2
}
